{
 "cells": [
  {
   "cell_type": "markdown",
   "id": "9829b9f5",
   "metadata": {},
   "source": [
    "# Project Overview\n",
    "\n",
    "Sistem rekomendasi saat ini menjadi salah satu teknologi yang sangat penting dalam dunia digital, khususnya pada platform streaming film. Banyak pengguna merasa kesulitan menemukan film yang sesuai dengan preferensi mereka karena banyaknya pilihan yang tersedia. Oleh karena itu, sistem rekomendasi dibutuhkan untuk membantu pengguna menemukan konten yang relevan dan sesuai dengan minatnya.\n",
    "\n",
    "Proyek ini bertujuan untuk membangun sistem rekomendasi film dengan memanfaatkan dataset MovieLens 100k. Dataset ini berisi data rating dari pengguna terhadap sejumlah film, serta metadata film seperti judul dan genre. Dengan memanfaatkan data tersebut, sistem rekomendasi dapat memberikan saran film kepada pengguna berdasarkan histori rating atau kemiripan konten film.\n",
    "\n",
    "Model sistem rekomendasi ini akan dibangun menggunakan dua pendekatan utama, yaitu:\n",
    "- **Content-Based Filtering**\n",
    "- **Collaborative Filtering**\n",
    "\n",
    "Tujuan utama dari proyek ini adalah menghasilkan sistem yang mampu memberikan rekomendasi **Top-N Movie** yang relevan kepada pengguna tertentu.\n"
   ]
  },
  {
   "cell_type": "markdown",
   "id": "d8ccd650",
   "metadata": {},
   "source": [
    "# Business Understanding\n",
    "\n",
    "## Problem Statements\n",
    "\n",
    "Pengguna sering kesulitan dalam memilih film karena terlalu banyak pilihan. Tanpa sistem rekomendasi yang efektif, mereka bisa kehilangan minat untuk menonton.\n",
    "\n",
    "## Goals\n",
    "\n",
    "- Membangun sistem rekomendasi film menggunakan data rating dan metadata\n",
    "- Menghasilkan Top-N rekomendasi\n",
    "- Menerapkan pendekatan Content-Based dan Collaborative Filtering\n",
    "\n",
    "## Solution Approach\n",
    "\n",
    "1. **Content-Based Filtering**: Berdasarkan genre dan konten film\n",
    "2. **Collaborative Filtering**: Berdasarkan pola rating antar pengguna\n"
   ]
  },
  {
   "cell_type": "markdown",
   "id": "f399849b",
   "metadata": {},
   "source": [
    "# Data Understanding\n",
    "\n",
    "Dataset MovieLens 100k terdiri dari:\n",
    "- `u.data`: data rating (user_id, item_id, rating, timestamp)\n",
    "- `u.item`: metadata film (title, genre, release_date, dll)\n",
    "\n",
    "Langkah pertama adalah memuat dan menggabungkan data.\n"
   ]
  },
  {
   "cell_type": "code",
   "execution_count": null,
   "id": "163d65b3",
   "metadata": {},
   "outputs": [],
   "source": [
    "import pandas as pd\n",
    "\n",
    "ratings = pd.read_csv(\"ml-100k/u.data\", sep=\"\\t\", names=[\"user_id\", \"item_id\", \"rating\", \"timestamp\"])\n",
    "movie_cols = [\"movie_id\", \"title\", \"release_date\", \"video_release_date\", \"imdb_url\"] + [f\"genre_{i}\" for i in range(19)]\n",
    "movies = pd.read_csv(\"ml-100k/u.item\", sep=\"|\", encoding=\"latin-1\", header=None, names=movie_cols)\n",
    "\n",
    "df = pd.merge(ratings, movies, left_on=\"item_id\", right_on=\"movie_id\")\n",
    "df.head()"
   ]
  },
  {
   "cell_type": "markdown",
   "id": "7a445da9",
   "metadata": {},
   "source": [
    "# Data Preparation\n",
    "\n",
    "Langkah:\n",
    "- Hapus kolom tidak penting\n",
    "- Siapkan data untuk content-based (genre matrix)\n",
    "- Siapkan user-item matrix untuk collaborative filtering\n"
   ]
  },
  {
   "cell_type": "code",
   "execution_count": null,
   "id": "f5b1b575",
   "metadata": {},
   "outputs": [],
   "source": [
    "genre_cols = [col for col in df.columns if 'genre_' in col]\n",
    "\n",
    "# Untuk Content-Based\n",
    "content_df = df.drop_duplicates(subset='movie_id')[['movie_id', 'title'] + genre_cols]\n",
    "\n",
    "# Untuk Collaborative Filtering\n",
    "user_item_matrix = df.pivot_table(index='user_id', columns='movie_id', values='rating')\n",
    "user_item_matrix.head()"
   ]
  },
  {
   "cell_type": "markdown",
   "id": "c14517fe",
   "metadata": {},
   "source": [
    "# Modeling and Result - Content-Based Filtering\n",
    "\n",
    "Menggunakan cosine similarity antar fitur genre.\n"
   ]
  },
  {
   "cell_type": "code",
   "execution_count": null,
   "id": "38d581a1",
   "metadata": {},
   "outputs": [],
   "source": [
    "from sklearn.metrics.pairwise import cosine_similarity\n",
    "\n",
    "genre_matrix = content_df[genre_cols].values\n",
    "cosine_sim = cosine_similarity(genre_matrix, genre_matrix)\n",
    "sim_df = pd.DataFrame(cosine_sim, index=content_df['title'], columns=content_df['title'])\n",
    "\n",
    "def recommend_similar_movies(film_title, top_n=5):\n",
    "    if film_title not in sim_df.columns:\n",
    "        return f\"Film '{film_title}' tidak ditemukan.\"\n",
    "    sim_scores = sim_df[film_title].sort_values(ascending=False)\n",
    "    return sim_scores.iloc[1:top_n+1]\n",
    "\n",
    "recommend_similar_movies(\"Star Wars (1977)\", top_n=5)"
   ]
  },
  {
   "cell_type": "markdown",
   "id": "d6541510",
   "metadata": {},
   "source": [
    "# Modeling and Result - Collaborative Filtering\n",
    "\n",
    "Menggunakan Surprise library dan algoritma KNNBasic.\n"
   ]
  },
  {
   "cell_type": "code",
   "execution_count": null,
   "id": "d7808128",
   "metadata": {},
   "outputs": [],
   "source": [
    "from surprise import Dataset, Reader, KNNBasic\n",
    "from surprise.model_selection import train_test_split\n",
    "from surprise import accuracy\n",
    "\n",
    "reader = Reader(rating_scale=(1, 5))\n",
    "data = Dataset.load_from_df(ratings[['user_id', 'item_id', 'rating']], reader)\n",
    "\n",
    "trainset, testset = train_test_split(data, test_size=0.2, random_state=42)\n",
    "algo = KNNBasic(sim_options={\"name\": \"cosine\", \"user_based\": False})\n",
    "algo.fit(trainset)\n",
    "\n",
    "predictions = algo.test(testset)\n",
    "accuracy.rmse(predictions)"
   ]
  },
  {
   "cell_type": "code",
   "execution_count": null,
   "id": "f02c9c80",
   "metadata": {},
   "outputs": [],
   "source": [
    "from collections import defaultdict\n",
    "\n",
    "def get_top_n(predictions, n=5):\n",
    "    top_n = defaultdict(list)\n",
    "    for uid, iid, true_r, est, _ in predictions:\n",
    "        top_n[uid].append((iid, est))\n",
    "    for uid, user_ratings in top_n.items():\n",
    "        user_ratings.sort(key=lambda x: x[1], reverse=True)\n",
    "        top_n[uid] = user_ratings[:n]\n",
    "    return top_n\n",
    "\n",
    "top_n = get_top_n(predictions, n=5)\n",
    "for movie_id, est_rating in top_n[1]:\n",
    "    title = movies[movies['movie_id'] == movie_id]['title'].values[0]\n",
    "    print(f\"{title} (perkiraan rating: {est_rating:.2f})\")"
   ]
  },
  {
   "cell_type": "markdown",
   "id": "bc600d00",
   "metadata": {},
   "source": [
    "# Evaluation\n",
    "\n",
    "## Content-Based Filtering\n",
    "Memberikan film berdasarkan genre yang mirip. Cocok untuk sistem sederhana atau saat data pengguna terbatas.\n",
    "\n",
    "## Collaborative Filtering\n",
    "Menggunakan rating pengguna lain untuk menghasilkan rekomendasi. RMSE digunakan untuk mengukur performa model prediktif.\n",
    "\n",
    "RMSE rendah menandakan akurasi model lebih baik.\n",
    "\n",
    "**Kesimpulan**: Collaborative Filtering lebih unggul dari sisi evaluasi numerik.\n"
   ]
  },
  {
   "cell_type": "code",
   "execution_count": null,
   "id": "deb4bf80",
   "metadata": {},
   "outputs": [],
   "source": [
    "import matplotlib.pyplot as plt\n",
    "import seaborn as sns"
   ]
  },
  {
   "cell_type": "markdown",
   "id": "a5915133",
   "metadata": {},
   "source": [
    "## Evaluasi Tambahan: Precision@K\n",
    "\n",
    "Metrik ini digunakan untuk mengevaluasi relevansi rekomendasi yang diberikan sistem. Precision@K menghitung proporsi dari K rekomendasi teratas yang benar-benar relevan (rating ≥ 4).\n"
   ]
  },
  {
   "cell_type": "code",
   "execution_count": null,
   "id": "c6878f97",
   "metadata": {},
   "outputs": [],
   "source": [
    "\n",
    "def precision_at_k(top_n, threshold=4.0):\n",
    "    precisions = []\n",
    "    for uid, user_ratings in top_n.items():\n",
    "        n_rel = sum((est >= threshold) for (_, est) in user_ratings)\n",
    "        precisions.append(n_rel / len(user_ratings))\n",
    "    return sum(precisions) / len(precisions)\n",
    "\n",
    "print(\"Precision@5:\", precision_at_k(top_n, threshold=4.0))\n"
   ]
  },
  {
   "cell_type": "markdown",
   "id": "279a2a6c",
   "metadata": {},
   "source": [
    "# Final Conclusion\n",
    "\n",
    "Berdasarkan eksperimen yang dilakukan:\n",
    "\n",
    "- **Content-Based Filtering** memberikan hasil rekomendasi yang baik berdasarkan genre film. Namun, model ini tidak memperhitungkan preferensi pengguna lain dan cenderung statis.\n",
    "- **Collaborative Filtering (KNNBasic)** menghasilkan rekomendasi yang lebih personal dengan mempertimbangkan pola rating dari pengguna lain. Model ini juga dapat dievaluasi secara numerik dengan **RMSE** dan **Precision@K** yang menunjukkan performa cukup baik.\n",
    "\n",
    "Secara keseluruhan, pendekatan **Collaborative Filtering** lebih unggul untuk membangun sistem rekomendasi film yang akurat dan adaptif terhadap preferensi pengguna.\n"
   ]
  }
 ],
 "metadata": {},
 "nbformat": 4,
 "nbformat_minor": 5
}
